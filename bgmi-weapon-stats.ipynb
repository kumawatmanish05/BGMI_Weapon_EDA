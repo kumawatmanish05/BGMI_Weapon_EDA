{
 "cells": [
  {
   "cell_type": "code",
   "execution_count": 1,
   "id": "72a3a314",
   "metadata": {
    "_cell_guid": "b1076dfc-b9ad-4769-8c92-a6c4dae69d19",
    "_uuid": "8f2839f25d086af736a60e9eeb907d3b93b6e0e5",
    "execution": {
     "iopub.execute_input": "2024-11-20T17:02:43.361670Z",
     "iopub.status.busy": "2024-11-20T17:02:43.360609Z",
     "iopub.status.idle": "2024-11-20T17:02:44.444460Z",
     "shell.execute_reply": "2024-11-20T17:02:44.443356Z"
    },
    "papermill": {
     "duration": 1.091718,
     "end_time": "2024-11-20T17:02:44.447280",
     "exception": false,
     "start_time": "2024-11-20T17:02:43.355562",
     "status": "completed"
    },
    "tags": []
   },
   "outputs": [
    {
     "name": "stdout",
     "output_type": "stream",
     "text": [
      "/kaggle/input/pubg-weapon-stats/pubg-weapon-stats.csv\n"
     ]
    }
   ],
   "source": [
    "# This Python 3 environment comes with many helpful analytics libraries installed\n",
    "# It is defined by the kaggle/python Docker image: https://github.com/kaggle/docker-python\n",
    "# For example, here's several helpful packages to load\n",
    "\n",
    "import numpy as np # linear algebra\n",
    "import pandas as pd # data processing, CSV file I/O (e.g. pd.read_csv)\n",
    "\n",
    "# Input data files are available in the read-only \"../input/\" directory\n",
    "# For example, running this (by clicking run or pressing Shift+Enter) will list all files under the input directory\n",
    "\n",
    "import os\n",
    "for dirname, _, filenames in os.walk('/kaggle/input'):\n",
    "    for filename in filenames:\n",
    "        print(os.path.join(dirname, filename))\n",
    "\n",
    "# You can write up to 20GB to the current directory (/kaggle/working/) that gets preserved as output when you create a version using \"Save & Run All\" \n",
    "# You can also write temporary files to /kaggle/temp/, but they won't be saved outside of the current session"
   ]
  },
  {
   "cell_type": "code",
   "execution_count": 2,
   "id": "d800b8ca",
   "metadata": {
    "execution": {
     "iopub.execute_input": "2024-11-20T17:02:44.454868Z",
     "iopub.status.busy": "2024-11-20T17:02:44.454333Z",
     "iopub.status.idle": "2024-11-20T17:02:44.502057Z",
     "shell.execute_reply": "2024-11-20T17:02:44.500840Z"
    },
    "papermill": {
     "duration": 0.053721,
     "end_time": "2024-11-20T17:02:44.504410",
     "exception": false,
     "start_time": "2024-11-20T17:02:44.450689",
     "status": "completed"
    },
    "tags": []
   },
   "outputs": [
    {
     "data": {
      "text/html": [
       "<div>\n",
       "<style scoped>\n",
       "    .dataframe tbody tr th:only-of-type {\n",
       "        vertical-align: middle;\n",
       "    }\n",
       "\n",
       "    .dataframe tbody tr th {\n",
       "        vertical-align: top;\n",
       "    }\n",
       "\n",
       "    .dataframe thead th {\n",
       "        text-align: right;\n",
       "    }\n",
       "</style>\n",
       "<table border=\"1\" class=\"dataframe\">\n",
       "  <thead>\n",
       "    <tr style=\"text-align: right;\">\n",
       "      <th></th>\n",
       "      <th>Weapon Name</th>\n",
       "      <th>Weapon Type</th>\n",
       "      <th>Bullet Type</th>\n",
       "      <th>Damage</th>\n",
       "      <th>Magazine Capacity</th>\n",
       "      <th>Range</th>\n",
       "      <th>Bullet Speed</th>\n",
       "      <th>Rate of Fire</th>\n",
       "      <th>Shots to Kill (Chest)</th>\n",
       "      <th>Shots to Kill (Head)</th>\n",
       "      <th>Damage Per Second</th>\n",
       "      <th>Fire Mode</th>\n",
       "      <th>BDMG_0</th>\n",
       "      <th>BDMG_1</th>\n",
       "      <th>BDMG_2</th>\n",
       "      <th>BDMG_3</th>\n",
       "      <th>HDMG_0</th>\n",
       "      <th>HDMG_1</th>\n",
       "      <th>HDMG_2</th>\n",
       "      <th>HDMG_3</th>\n",
       "    </tr>\n",
       "  </thead>\n",
       "  <tbody>\n",
       "    <tr>\n",
       "      <th>0</th>\n",
       "      <td>Groza</td>\n",
       "      <td>Assault Rifle</td>\n",
       "      <td>7.62</td>\n",
       "      <td>49</td>\n",
       "      <td>30</td>\n",
       "      <td>400.0</td>\n",
       "      <td>715.0</td>\n",
       "      <td>0.080</td>\n",
       "      <td>4</td>\n",
       "      <td>2</td>\n",
       "      <td>612.0</td>\n",
       "      <td>Single, Automatic, Burst</td>\n",
       "      <td>47.0</td>\n",
       "      <td>34.3</td>\n",
       "      <td>29.4</td>\n",
       "      <td>22.0</td>\n",
       "      <td>115.1</td>\n",
       "      <td>80.6</td>\n",
       "      <td>69.0</td>\n",
       "      <td>51.8</td>\n",
       "    </tr>\n",
       "    <tr>\n",
       "      <th>1</th>\n",
       "      <td>AKM</td>\n",
       "      <td>Assault Rifle</td>\n",
       "      <td>7.62</td>\n",
       "      <td>49</td>\n",
       "      <td>30</td>\n",
       "      <td>400.0</td>\n",
       "      <td>710.0</td>\n",
       "      <td>0.010</td>\n",
       "      <td>4</td>\n",
       "      <td>2</td>\n",
       "      <td>490.0</td>\n",
       "      <td>Single, Automatic</td>\n",
       "      <td>47.0</td>\n",
       "      <td>34.3</td>\n",
       "      <td>29.4</td>\n",
       "      <td>22.0</td>\n",
       "      <td>115.1</td>\n",
       "      <td>80.6</td>\n",
       "      <td>69.0</td>\n",
       "      <td>51.8</td>\n",
       "    </tr>\n",
       "    <tr>\n",
       "      <th>2</th>\n",
       "      <td>M762</td>\n",
       "      <td>Assault Rifle</td>\n",
       "      <td>7.62</td>\n",
       "      <td>47</td>\n",
       "      <td>30</td>\n",
       "      <td>400.0</td>\n",
       "      <td>715.0</td>\n",
       "      <td>0.086</td>\n",
       "      <td>4</td>\n",
       "      <td>2</td>\n",
       "      <td>547.0</td>\n",
       "      <td>Single, Automatic, Burst</td>\n",
       "      <td>46.0</td>\n",
       "      <td>32.9</td>\n",
       "      <td>28.2</td>\n",
       "      <td>21.1</td>\n",
       "      <td>110.4</td>\n",
       "      <td>77.3</td>\n",
       "      <td>66.2</td>\n",
       "      <td>49.7</td>\n",
       "    </tr>\n",
       "    <tr>\n",
       "      <th>3</th>\n",
       "      <td>MK47 Mutant</td>\n",
       "      <td>Assault Rifle</td>\n",
       "      <td>7.62</td>\n",
       "      <td>49</td>\n",
       "      <td>30</td>\n",
       "      <td>500.0</td>\n",
       "      <td>715.0</td>\n",
       "      <td>0.010</td>\n",
       "      <td>4</td>\n",
       "      <td>2</td>\n",
       "      <td>490.0</td>\n",
       "      <td>Single, Burst</td>\n",
       "      <td>49.0</td>\n",
       "      <td>34.3</td>\n",
       "      <td>29.4</td>\n",
       "      <td>22.0</td>\n",
       "      <td>115.1</td>\n",
       "      <td>80.6</td>\n",
       "      <td>69.0</td>\n",
       "      <td>51.8</td>\n",
       "    </tr>\n",
       "    <tr>\n",
       "      <th>4</th>\n",
       "      <td>AUG A3</td>\n",
       "      <td>Assault Rifle</td>\n",
       "      <td>5.56</td>\n",
       "      <td>43</td>\n",
       "      <td>30</td>\n",
       "      <td>600.0</td>\n",
       "      <td>880.0</td>\n",
       "      <td>0.086</td>\n",
       "      <td>4</td>\n",
       "      <td>2</td>\n",
       "      <td>502.0</td>\n",
       "      <td>Single, Automatic</td>\n",
       "      <td>41.0</td>\n",
       "      <td>30.1</td>\n",
       "      <td>25.8</td>\n",
       "      <td>19.3</td>\n",
       "      <td>101.0</td>\n",
       "      <td>70.7</td>\n",
       "      <td>60.6</td>\n",
       "      <td>45.4</td>\n",
       "    </tr>\n",
       "  </tbody>\n",
       "</table>\n",
       "</div>"
      ],
      "text/plain": [
       "   Weapon Name    Weapon Type  Bullet Type  Damage  Magazine Capacity  Range  \\\n",
       "0        Groza  Assault Rifle         7.62      49                 30  400.0   \n",
       "1          AKM  Assault Rifle         7.62      49                 30  400.0   \n",
       "2         M762  Assault Rifle         7.62      47                 30  400.0   \n",
       "3  MK47 Mutant  Assault Rifle         7.62      49                 30  500.0   \n",
       "4       AUG A3  Assault Rifle         5.56      43                 30  600.0   \n",
       "\n",
       "   Bullet Speed  Rate of Fire  Shots to Kill (Chest)  Shots to Kill (Head)  \\\n",
       "0         715.0         0.080                      4                     2   \n",
       "1         710.0         0.010                      4                     2   \n",
       "2         715.0         0.086                      4                     2   \n",
       "3         715.0         0.010                      4                     2   \n",
       "4         880.0         0.086                      4                     2   \n",
       "\n",
       "   Damage Per Second                 Fire Mode  BDMG_0  BDMG_1  BDMG_2  \\\n",
       "0              612.0  Single, Automatic, Burst    47.0    34.3    29.4   \n",
       "1              490.0         Single, Automatic    47.0    34.3    29.4   \n",
       "2              547.0  Single, Automatic, Burst    46.0    32.9    28.2   \n",
       "3              490.0             Single, Burst    49.0    34.3    29.4   \n",
       "4              502.0         Single, Automatic    41.0    30.1    25.8   \n",
       "\n",
       "   BDMG_3  HDMG_0  HDMG_1  HDMG_2  HDMG_3  \n",
       "0    22.0   115.1    80.6    69.0    51.8  \n",
       "1    22.0   115.1    80.6    69.0    51.8  \n",
       "2    21.1   110.4    77.3    66.2    49.7  \n",
       "3    22.0   115.1    80.6    69.0    51.8  \n",
       "4    19.3   101.0    70.7    60.6    45.4  "
      ]
     },
     "execution_count": 2,
     "metadata": {},
     "output_type": "execute_result"
    }
   ],
   "source": [
    "df=pd.read_csv(\"/kaggle/input/pubg-weapon-stats/pubg-weapon-stats.csv\")\n",
    "df.head()"
   ]
  },
  {
   "cell_type": "code",
   "execution_count": 3,
   "id": "548c3f57",
   "metadata": {
    "execution": {
     "iopub.execute_input": "2024-11-20T17:02:44.511922Z",
     "iopub.status.busy": "2024-11-20T17:02:44.511231Z",
     "iopub.status.idle": "2024-11-20T17:02:44.517685Z",
     "shell.execute_reply": "2024-11-20T17:02:44.516705Z"
    },
    "papermill": {
     "duration": 0.012513,
     "end_time": "2024-11-20T17:02:44.519793",
     "exception": false,
     "start_time": "2024-11-20T17:02:44.507280",
     "status": "completed"
    },
    "tags": []
   },
   "outputs": [
    {
     "data": {
      "text/plain": [
       "(44, 20)"
      ]
     },
     "execution_count": 3,
     "metadata": {},
     "output_type": "execute_result"
    }
   ],
   "source": [
    "df.shape"
   ]
  },
  {
   "cell_type": "code",
   "execution_count": 4,
   "id": "71394e1b",
   "metadata": {
    "execution": {
     "iopub.execute_input": "2024-11-20T17:02:44.527274Z",
     "iopub.status.busy": "2024-11-20T17:02:44.526928Z",
     "iopub.status.idle": "2024-11-20T17:02:44.537364Z",
     "shell.execute_reply": "2024-11-20T17:02:44.536395Z"
    },
    "papermill": {
     "duration": 0.016515,
     "end_time": "2024-11-20T17:02:44.539351",
     "exception": false,
     "start_time": "2024-11-20T17:02:44.522836",
     "status": "completed"
    },
    "tags": []
   },
   "outputs": [
    {
     "data": {
      "text/plain": [
       "Weapon Name              False\n",
       "Weapon Type              False\n",
       "Bullet Type               True\n",
       "Damage                   False\n",
       "Magazine Capacity        False\n",
       "Range                     True\n",
       "Bullet Speed              True\n",
       "Rate of Fire             False\n",
       "Shots to Kill (Chest)    False\n",
       "Shots to Kill (Head)     False\n",
       "Damage Per Second        False\n",
       "Fire Mode                False\n",
       "BDMG_0                    True\n",
       "BDMG_1                    True\n",
       "BDMG_2                    True\n",
       "BDMG_3                    True\n",
       "HDMG_0                    True\n",
       "HDMG_1                    True\n",
       "HDMG_2                    True\n",
       "HDMG_3                    True\n",
       "dtype: bool"
      ]
     },
     "execution_count": 4,
     "metadata": {},
     "output_type": "execute_result"
    }
   ],
   "source": [
    "df.isnull().any()"
   ]
  },
  {
   "cell_type": "code",
   "execution_count": 5,
   "id": "35f213fd",
   "metadata": {
    "execution": {
     "iopub.execute_input": "2024-11-20T17:02:44.547117Z",
     "iopub.status.busy": "2024-11-20T17:02:44.546728Z",
     "iopub.status.idle": "2024-11-20T17:02:44.560422Z",
     "shell.execute_reply": "2024-11-20T17:02:44.559362Z"
    },
    "papermill": {
     "duration": 0.02007,
     "end_time": "2024-11-20T17:02:44.562581",
     "exception": false,
     "start_time": "2024-11-20T17:02:44.542511",
     "status": "completed"
    },
    "tags": []
   },
   "outputs": [],
   "source": [
    "df.dropna(axis=0,inplace=True)"
   ]
  },
  {
   "cell_type": "code",
   "execution_count": 6,
   "id": "db81a76f",
   "metadata": {
    "execution": {
     "iopub.execute_input": "2024-11-20T17:02:44.571094Z",
     "iopub.status.busy": "2024-11-20T17:02:44.570750Z",
     "iopub.status.idle": "2024-11-20T17:02:44.577239Z",
     "shell.execute_reply": "2024-11-20T17:02:44.576196Z"
    },
    "papermill": {
     "duration": 0.013014,
     "end_time": "2024-11-20T17:02:44.579244",
     "exception": false,
     "start_time": "2024-11-20T17:02:44.566230",
     "status": "completed"
    },
    "tags": []
   },
   "outputs": [
    {
     "data": {
      "text/plain": [
       "(35, 20)"
      ]
     },
     "execution_count": 6,
     "metadata": {},
     "output_type": "execute_result"
    }
   ],
   "source": [
    "df.shape"
   ]
  },
  {
   "cell_type": "code",
   "execution_count": 7,
   "id": "7d7a5a03",
   "metadata": {
    "execution": {
     "iopub.execute_input": "2024-11-20T17:02:44.587129Z",
     "iopub.status.busy": "2024-11-20T17:02:44.586793Z",
     "iopub.status.idle": "2024-11-20T17:02:46.628140Z",
     "shell.execute_reply": "2024-11-20T17:02:46.626599Z"
    },
    "papermill": {
     "duration": 2.048054,
     "end_time": "2024-11-20T17:02:46.630620",
     "exception": false,
     "start_time": "2024-11-20T17:02:44.582566",
     "status": "completed"
    },
    "tags": []
   },
   "outputs": [],
   "source": [
    "import seaborn as sns\n",
    "import matplotlib.pyplot as plt\n",
    "%matplotlib inline "
   ]
  },
  {
   "cell_type": "code",
   "execution_count": null,
   "id": "c6eee538",
   "metadata": {
    "papermill": {
     "duration": 0.002863,
     "end_time": "2024-11-20T17:02:46.636783",
     "exception": false,
     "start_time": "2024-11-20T17:02:46.633920",
     "status": "completed"
    },
    "tags": []
   },
   "outputs": [],
   "source": []
  }
 ],
 "metadata": {
  "kaggle": {
   "accelerator": "none",
   "dataSources": [
    {
     "datasetId": 803991,
     "sourceId": 1378283,
     "sourceType": "datasetVersion"
    }
   ],
   "dockerImageVersionId": 30786,
   "isGpuEnabled": false,
   "isInternetEnabled": true,
   "language": "python",
   "sourceType": "notebook"
  },
  "kernelspec": {
   "display_name": "Python 3",
   "language": "python",
   "name": "python3"
  },
  "language_info": {
   "codemirror_mode": {
    "name": "ipython",
    "version": 3
   },
   "file_extension": ".py",
   "mimetype": "text/x-python",
   "name": "python",
   "nbconvert_exporter": "python",
   "pygments_lexer": "ipython3",
   "version": "3.10.14"
  },
  "papermill": {
   "default_parameters": {},
   "duration": 7.068215,
   "end_time": "2024-11-20T17:02:47.260819",
   "environment_variables": {},
   "exception": null,
   "input_path": "__notebook__.ipynb",
   "output_path": "__notebook__.ipynb",
   "parameters": {},
   "start_time": "2024-11-20T17:02:40.192604",
   "version": "2.6.0"
  }
 },
 "nbformat": 4,
 "nbformat_minor": 5
}
