{
 "cells": [
  {
   "cell_type": "code",
   "execution_count": 1,
   "id": "adbccecf",
   "metadata": {
    "_cell_guid": "b1076dfc-b9ad-4769-8c92-a6c4dae69d19",
    "_uuid": "8f2839f25d086af736a60e9eeb907d3b93b6e0e5",
    "execution": {
     "iopub.execute_input": "2024-11-21T18:02:42.766161Z",
     "iopub.status.busy": "2024-11-21T18:02:42.765747Z",
     "iopub.status.idle": "2024-11-21T18:02:43.651309Z",
     "shell.execute_reply": "2024-11-21T18:02:43.650266Z"
    },
    "papermill": {
     "duration": 0.892838,
     "end_time": "2024-11-21T18:02:43.653831",
     "exception": false,
     "start_time": "2024-11-21T18:02:42.760993",
     "status": "completed"
    },
    "tags": []
   },
   "outputs": [
    {
     "name": "stdout",
     "output_type": "stream",
     "text": [
      "/kaggle/input/pubg-weapon-stats/pubg-weapon-stats.csv\n"
     ]
    }
   ],
   "source": [
    "# This Python 3 environment comes with many helpful analytics libraries installed\n",
    "# It is defined by the kaggle/python Docker image: https://github.com/kaggle/docker-python\n",
    "# For example, here's several helpful packages to load\n",
    "\n",
    "import numpy as np # linear algebra\n",
    "import pandas as pd # data processing, CSV file I/O (e.g. pd.read_csv)\n",
    "\n",
    "# Input data files are available in the read-only \"../input/\" directory\n",
    "# For example, running this (by clicking run or pressing Shift+Enter) will list all files under the input directory\n",
    "\n",
    "import os\n",
    "for dirname, _, filenames in os.walk('/kaggle/input'):\n",
    "    for filename in filenames:\n",
    "        print(os.path.join(dirname, filename))\n",
    "\n",
    "# You can write up to 20GB to the current directory (/kaggle/working/) that gets preserved as output when you create a version using \"Save & Run All\" \n",
    "# You can also write temporary files to /kaggle/temp/, but they won't be saved outside of the current session"
   ]
  },
  {
   "cell_type": "code",
   "execution_count": 2,
   "id": "277e0679",
   "metadata": {
    "execution": {
     "iopub.execute_input": "2024-11-21T18:02:43.661643Z",
     "iopub.status.busy": "2024-11-21T18:02:43.661082Z",
     "iopub.status.idle": "2024-11-21T18:02:43.705821Z",
     "shell.execute_reply": "2024-11-21T18:02:43.704763Z"
    },
    "papermill": {
     "duration": 0.050701,
     "end_time": "2024-11-21T18:02:43.708050",
     "exception": false,
     "start_time": "2024-11-21T18:02:43.657349",
     "status": "completed"
    },
    "tags": []
   },
   "outputs": [
    {
     "data": {
      "text/html": [
       "<div>\n",
       "<style scoped>\n",
       "    .dataframe tbody tr th:only-of-type {\n",
       "        vertical-align: middle;\n",
       "    }\n",
       "\n",
       "    .dataframe tbody tr th {\n",
       "        vertical-align: top;\n",
       "    }\n",
       "\n",
       "    .dataframe thead th {\n",
       "        text-align: right;\n",
       "    }\n",
       "</style>\n",
       "<table border=\"1\" class=\"dataframe\">\n",
       "  <thead>\n",
       "    <tr style=\"text-align: right;\">\n",
       "      <th></th>\n",
       "      <th>Weapon Name</th>\n",
       "      <th>Weapon Type</th>\n",
       "      <th>Bullet Type</th>\n",
       "      <th>Damage</th>\n",
       "      <th>Magazine Capacity</th>\n",
       "      <th>Range</th>\n",
       "      <th>Bullet Speed</th>\n",
       "      <th>Rate of Fire</th>\n",
       "      <th>Shots to Kill (Chest)</th>\n",
       "      <th>Shots to Kill (Head)</th>\n",
       "      <th>Damage Per Second</th>\n",
       "      <th>Fire Mode</th>\n",
       "      <th>BDMG_0</th>\n",
       "      <th>BDMG_1</th>\n",
       "      <th>BDMG_2</th>\n",
       "      <th>BDMG_3</th>\n",
       "      <th>HDMG_0</th>\n",
       "      <th>HDMG_1</th>\n",
       "      <th>HDMG_2</th>\n",
       "      <th>HDMG_3</th>\n",
       "    </tr>\n",
       "  </thead>\n",
       "  <tbody>\n",
       "    <tr>\n",
       "      <th>0</th>\n",
       "      <td>Groza</td>\n",
       "      <td>Assault Rifle</td>\n",
       "      <td>7.62</td>\n",
       "      <td>49</td>\n",
       "      <td>30</td>\n",
       "      <td>400.0</td>\n",
       "      <td>715.0</td>\n",
       "      <td>0.080</td>\n",
       "      <td>4</td>\n",
       "      <td>2</td>\n",
       "      <td>612.0</td>\n",
       "      <td>Single, Automatic, Burst</td>\n",
       "      <td>47.0</td>\n",
       "      <td>34.3</td>\n",
       "      <td>29.4</td>\n",
       "      <td>22.0</td>\n",
       "      <td>115.1</td>\n",
       "      <td>80.6</td>\n",
       "      <td>69.0</td>\n",
       "      <td>51.8</td>\n",
       "    </tr>\n",
       "    <tr>\n",
       "      <th>1</th>\n",
       "      <td>AKM</td>\n",
       "      <td>Assault Rifle</td>\n",
       "      <td>7.62</td>\n",
       "      <td>49</td>\n",
       "      <td>30</td>\n",
       "      <td>400.0</td>\n",
       "      <td>710.0</td>\n",
       "      <td>0.010</td>\n",
       "      <td>4</td>\n",
       "      <td>2</td>\n",
       "      <td>490.0</td>\n",
       "      <td>Single, Automatic</td>\n",
       "      <td>47.0</td>\n",
       "      <td>34.3</td>\n",
       "      <td>29.4</td>\n",
       "      <td>22.0</td>\n",
       "      <td>115.1</td>\n",
       "      <td>80.6</td>\n",
       "      <td>69.0</td>\n",
       "      <td>51.8</td>\n",
       "    </tr>\n",
       "    <tr>\n",
       "      <th>2</th>\n",
       "      <td>M762</td>\n",
       "      <td>Assault Rifle</td>\n",
       "      <td>7.62</td>\n",
       "      <td>47</td>\n",
       "      <td>30</td>\n",
       "      <td>400.0</td>\n",
       "      <td>715.0</td>\n",
       "      <td>0.086</td>\n",
       "      <td>4</td>\n",
       "      <td>2</td>\n",
       "      <td>547.0</td>\n",
       "      <td>Single, Automatic, Burst</td>\n",
       "      <td>46.0</td>\n",
       "      <td>32.9</td>\n",
       "      <td>28.2</td>\n",
       "      <td>21.1</td>\n",
       "      <td>110.4</td>\n",
       "      <td>77.3</td>\n",
       "      <td>66.2</td>\n",
       "      <td>49.7</td>\n",
       "    </tr>\n",
       "    <tr>\n",
       "      <th>3</th>\n",
       "      <td>MK47 Mutant</td>\n",
       "      <td>Assault Rifle</td>\n",
       "      <td>7.62</td>\n",
       "      <td>49</td>\n",
       "      <td>30</td>\n",
       "      <td>500.0</td>\n",
       "      <td>715.0</td>\n",
       "      <td>0.010</td>\n",
       "      <td>4</td>\n",
       "      <td>2</td>\n",
       "      <td>490.0</td>\n",
       "      <td>Single, Burst</td>\n",
       "      <td>49.0</td>\n",
       "      <td>34.3</td>\n",
       "      <td>29.4</td>\n",
       "      <td>22.0</td>\n",
       "      <td>115.1</td>\n",
       "      <td>80.6</td>\n",
       "      <td>69.0</td>\n",
       "      <td>51.8</td>\n",
       "    </tr>\n",
       "    <tr>\n",
       "      <th>4</th>\n",
       "      <td>AUG A3</td>\n",
       "      <td>Assault Rifle</td>\n",
       "      <td>5.56</td>\n",
       "      <td>43</td>\n",
       "      <td>30</td>\n",
       "      <td>600.0</td>\n",
       "      <td>880.0</td>\n",
       "      <td>0.086</td>\n",
       "      <td>4</td>\n",
       "      <td>2</td>\n",
       "      <td>502.0</td>\n",
       "      <td>Single, Automatic</td>\n",
       "      <td>41.0</td>\n",
       "      <td>30.1</td>\n",
       "      <td>25.8</td>\n",
       "      <td>19.3</td>\n",
       "      <td>101.0</td>\n",
       "      <td>70.7</td>\n",
       "      <td>60.6</td>\n",
       "      <td>45.4</td>\n",
       "    </tr>\n",
       "  </tbody>\n",
       "</table>\n",
       "</div>"
      ],
      "text/plain": [
       "   Weapon Name    Weapon Type  Bullet Type  Damage  Magazine Capacity  Range  \\\n",
       "0        Groza  Assault Rifle         7.62      49                 30  400.0   \n",
       "1          AKM  Assault Rifle         7.62      49                 30  400.0   \n",
       "2         M762  Assault Rifle         7.62      47                 30  400.0   \n",
       "3  MK47 Mutant  Assault Rifle         7.62      49                 30  500.0   \n",
       "4       AUG A3  Assault Rifle         5.56      43                 30  600.0   \n",
       "\n",
       "   Bullet Speed  Rate of Fire  Shots to Kill (Chest)  Shots to Kill (Head)  \\\n",
       "0         715.0         0.080                      4                     2   \n",
       "1         710.0         0.010                      4                     2   \n",
       "2         715.0         0.086                      4                     2   \n",
       "3         715.0         0.010                      4                     2   \n",
       "4         880.0         0.086                      4                     2   \n",
       "\n",
       "   Damage Per Second                 Fire Mode  BDMG_0  BDMG_1  BDMG_2  \\\n",
       "0              612.0  Single, Automatic, Burst    47.0    34.3    29.4   \n",
       "1              490.0         Single, Automatic    47.0    34.3    29.4   \n",
       "2              547.0  Single, Automatic, Burst    46.0    32.9    28.2   \n",
       "3              490.0             Single, Burst    49.0    34.3    29.4   \n",
       "4              502.0         Single, Automatic    41.0    30.1    25.8   \n",
       "\n",
       "   BDMG_3  HDMG_0  HDMG_1  HDMG_2  HDMG_3  \n",
       "0    22.0   115.1    80.6    69.0    51.8  \n",
       "1    22.0   115.1    80.6    69.0    51.8  \n",
       "2    21.1   110.4    77.3    66.2    49.7  \n",
       "3    22.0   115.1    80.6    69.0    51.8  \n",
       "4    19.3   101.0    70.7    60.6    45.4  "
      ]
     },
     "execution_count": 2,
     "metadata": {},
     "output_type": "execute_result"
    }
   ],
   "source": [
    "df=pd.read_csv(\"/kaggle/input/pubg-weapon-stats/pubg-weapon-stats.csv\")\n",
    "df.head()"
   ]
  },
  {
   "cell_type": "code",
   "execution_count": 3,
   "id": "50799c29",
   "metadata": {
    "execution": {
     "iopub.execute_input": "2024-11-21T18:02:43.715158Z",
     "iopub.status.busy": "2024-11-21T18:02:43.714792Z",
     "iopub.status.idle": "2024-11-21T18:02:43.720922Z",
     "shell.execute_reply": "2024-11-21T18:02:43.719951Z"
    },
    "papermill": {
     "duration": 0.011785,
     "end_time": "2024-11-21T18:02:43.722857",
     "exception": false,
     "start_time": "2024-11-21T18:02:43.711072",
     "status": "completed"
    },
    "tags": []
   },
   "outputs": [
    {
     "data": {
      "text/plain": [
       "(44, 20)"
      ]
     },
     "execution_count": 3,
     "metadata": {},
     "output_type": "execute_result"
    }
   ],
   "source": [
    "df.shape"
   ]
  },
  {
   "cell_type": "code",
   "execution_count": 4,
   "id": "9119c51c",
   "metadata": {
    "execution": {
     "iopub.execute_input": "2024-11-21T18:02:43.730250Z",
     "iopub.status.busy": "2024-11-21T18:02:43.729865Z",
     "iopub.status.idle": "2024-11-21T18:02:43.740006Z",
     "shell.execute_reply": "2024-11-21T18:02:43.739047Z"
    },
    "papermill": {
     "duration": 0.016164,
     "end_time": "2024-11-21T18:02:43.742047",
     "exception": false,
     "start_time": "2024-11-21T18:02:43.725883",
     "status": "completed"
    },
    "tags": []
   },
   "outputs": [
    {
     "data": {
      "text/plain": [
       "Weapon Name              False\n",
       "Weapon Type              False\n",
       "Bullet Type               True\n",
       "Damage                   False\n",
       "Magazine Capacity        False\n",
       "Range                     True\n",
       "Bullet Speed              True\n",
       "Rate of Fire             False\n",
       "Shots to Kill (Chest)    False\n",
       "Shots to Kill (Head)     False\n",
       "Damage Per Second        False\n",
       "Fire Mode                False\n",
       "BDMG_0                    True\n",
       "BDMG_1                    True\n",
       "BDMG_2                    True\n",
       "BDMG_3                    True\n",
       "HDMG_0                    True\n",
       "HDMG_1                    True\n",
       "HDMG_2                    True\n",
       "HDMG_3                    True\n",
       "dtype: bool"
      ]
     },
     "execution_count": 4,
     "metadata": {},
     "output_type": "execute_result"
    }
   ],
   "source": [
    "df.isnull().any()"
   ]
  },
  {
   "cell_type": "code",
   "execution_count": 5,
   "id": "e9ef19c9",
   "metadata": {
    "execution": {
     "iopub.execute_input": "2024-11-21T18:02:43.749566Z",
     "iopub.status.busy": "2024-11-21T18:02:43.749164Z",
     "iopub.status.idle": "2024-11-21T18:02:43.762366Z",
     "shell.execute_reply": "2024-11-21T18:02:43.761273Z"
    },
    "papermill": {
     "duration": 0.019352,
     "end_time": "2024-11-21T18:02:43.764507",
     "exception": false,
     "start_time": "2024-11-21T18:02:43.745155",
     "status": "completed"
    },
    "tags": []
   },
   "outputs": [],
   "source": [
    "df.dropna(axis=0,inplace=True)"
   ]
  },
  {
   "cell_type": "code",
   "execution_count": 6,
   "id": "ceffb32e",
   "metadata": {
    "execution": {
     "iopub.execute_input": "2024-11-21T18:02:43.772337Z",
     "iopub.status.busy": "2024-11-21T18:02:43.771936Z",
     "iopub.status.idle": "2024-11-21T18:02:43.778271Z",
     "shell.execute_reply": "2024-11-21T18:02:43.777130Z"
    },
    "papermill": {
     "duration": 0.012668,
     "end_time": "2024-11-21T18:02:43.780421",
     "exception": false,
     "start_time": "2024-11-21T18:02:43.767753",
     "status": "completed"
    },
    "tags": []
   },
   "outputs": [
    {
     "data": {
      "text/plain": [
       "(35, 20)"
      ]
     },
     "execution_count": 6,
     "metadata": {},
     "output_type": "execute_result"
    }
   ],
   "source": [
    "df.shape"
   ]
  },
  {
   "cell_type": "code",
   "execution_count": 7,
   "id": "7b988fe0",
   "metadata": {
    "execution": {
     "iopub.execute_input": "2024-11-21T18:02:43.788412Z",
     "iopub.status.busy": "2024-11-21T18:02:43.787954Z",
     "iopub.status.idle": "2024-11-21T18:02:45.704390Z",
     "shell.execute_reply": "2024-11-21T18:02:45.703309Z"
    },
    "papermill": {
     "duration": 1.922862,
     "end_time": "2024-11-21T18:02:45.706568",
     "exception": false,
     "start_time": "2024-11-21T18:02:43.783706",
     "status": "completed"
    },
    "tags": []
   },
   "outputs": [
    {
     "name": "stdout",
     "output_type": "stream",
     "text": [
      "0    Assault Rifle\n",
      "1    Assault Rifle\n",
      "2    Assault Rifle\n",
      "3    Assault Rifle\n",
      "4    Assault Rifle\n",
      "Name: Weapon Type, dtype: object\n"
     ]
    },
    {
     "data": {
      "image/png": "[encoded data removed]",
      "text/plain": [
       "<Figure size 1500x1000 with 1 Axes>"
      ]
     },
     "metadata": {},
     "output_type": "display_data"
    }
   ],
   "source": [
    "import matplotlib.pyplot as plt\n",
    "import seaborn as sns\n",
    "\n",
    "# Check data\n",
    "print(df['Weapon Type'].head())\n",
    "\n",
    "# Handle NaN values if necessary\n",
    "df['Weapon Type'] = df['Weapon Type'].fillna('Unknown')\n",
    "\n",
    "# Plot countplot\n",
    "plt.figure(figsize=(15, 10))\n",
    "sns.countplot(data=df, x='Weapon Type')\n",
    "plt.show()\n"
   ]
  },
  {
   "cell_type": "code",
   "execution_count": 8,
   "id": "482a5d15",
   "metadata": {
    "execution": {
     "iopub.execute_input": "2024-11-21T18:02:45.715359Z",
     "iopub.status.busy": "2024-11-21T18:02:45.714836Z",
     "iopub.status.idle": "2024-11-21T18:02:45.925785Z",
     "shell.execute_reply": "2024-11-21T18:02:45.924727Z"
    },
    "papermill": {
     "duration": 0.217728,
     "end_time": "2024-11-21T18:02:45.928021",
     "exception": false,
     "start_time": "2024-11-21T18:02:45.710293",
     "status": "completed"
    },
    "tags": []
   },
   "outputs": [
    {
     "data": {
      "image/png": "[encoded data removed]",
      "text/plain": [
       "<Figure size 1200x700 with 1 Axes>"
      ]
     },
     "metadata": {},
     "output_type": "display_data"
    }
   ],
   "source": [
    "## bullet type\n",
    "plt.figure(figsize=(12,7))\n",
    "sns.countplot(data=df, x='Bullet Type')\n",
    "plt.show()"
   ]
  }
 ],
 "metadata": {
  "kaggle": {
   "accelerator": "none",
   "dataSources": [
    {
     "datasetId": 803991,
     "sourceId": 1378283,
     "sourceType": "datasetVersion"
    }
   ],
   "dockerImageVersionId": 30786,
   "isGpuEnabled": false,
   "isInternetEnabled": true,
   "language": "python",
   "sourceType": "notebook"
  },
  "kernelspec": {
   "display_name": "Python 3",
   "language": "python",
   "name": "python3"
  },
  "language_info": {
   "codemirror_mode": {
    "name": "ipython",
    "version": 3
   },
   "file_extension": ".py",
   "mimetype": "text/x-python",
   "name": "python",
   "nbconvert_exporter": "python",
   "pygments_lexer": "ipython3",
   "version": "3.10.14"
  },
  "papermill": {
   "default_parameters": {},
   "duration": 6.426087,
   "end_time": "2024-11-21T18:02:46.553052",
   "environment_variables": {},
   "exception": null,
   "input_path": "__notebook__.ipynb",
   "output_path": "__notebook__.ipynb",
   "parameters": {},
   "start_time": "2024-11-21T18:02:40.126965",
   "version": "2.6.0"
  }
 },
 "nbformat": 4,
 "nbformat_minor": 5
}
