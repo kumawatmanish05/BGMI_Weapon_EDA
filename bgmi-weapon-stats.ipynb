{
 "cells": [
  {
   "cell_type": "code",
   "execution_count": 1,
   "id": "009d2ff9",
   "metadata": {
    "_cell_guid": "b1076dfc-b9ad-4769-8c92-a6c4dae69d19",
    "_uuid": "8f2839f25d086af736a60e9eeb907d3b93b6e0e5",
    "execution": {
     "iopub.execute_input": "2024-11-23T18:22:18.729969Z",
     "iopub.status.busy": "2024-11-23T18:22:18.729124Z",
     "iopub.status.idle": "2024-11-23T18:22:19.629859Z",
     "shell.execute_reply": "2024-11-23T18:22:19.628728Z"
    },
    "papermill": {
     "duration": 0.909416,
     "end_time": "2024-11-23T18:22:19.632326",
     "exception": false,
     "start_time": "2024-11-23T18:22:18.722910",
     "status": "completed"
    },
    "tags": []
   },
   "outputs": [
    {
     "name": "stdout",
     "output_type": "stream",
     "text": [
      "/kaggle/input/pubg-weapon-stats/pubg-weapon-stats.csv\n"
     ]
    }
   ],
   "source": [
    "# This Python 3 environment comes with many helpful analytics libraries installed\n",
    "# It is defined by the kaggle/python Docker image: https://github.com/kaggle/docker-python\n",
    "# For example, here's several helpful packages to load\n",
    "\n",
    "import numpy as np # linear algebra\n",
    "import pandas as pd # data processing, CSV file I/O (e.g. pd.read_csv)\n",
    "\n",
    "# Input data files are available in the read-only \"../input/\" directory\n",
    "# For example, running this (by clicking run or pressing Shift+Enter) will list all files under the input directory\n",
    "\n",
    "import os\n",
    "for dirname, _, filenames in os.walk('/kaggle/input'):\n",
    "    for filename in filenames:\n",
    "        print(os.path.join(dirname, filename))\n",
    "\n",
    "# You can write up to 20GB to the current directory (/kaggle/working/) that gets preserved as output when you create a version using \"Save & Run All\" \n",
    "# You can also write temporary files to /kaggle/temp/, but they won't be saved outside of the current session"
   ]
  },
  {
   "cell_type": "code",
   "execution_count": 2,
   "id": "449f8b5a",
   "metadata": {
    "execution": {
     "iopub.execute_input": "2024-11-23T18:22:19.642382Z",
     "iopub.status.busy": "2024-11-23T18:22:19.641845Z",
     "iopub.status.idle": "2024-11-23T18:22:19.694599Z",
     "shell.execute_reply": "2024-11-23T18:22:19.693398Z"
    },
    "papermill": {
     "duration": 0.060256,
     "end_time": "2024-11-23T18:22:19.696890",
     "exception": false,
     "start_time": "2024-11-23T18:22:19.636634",
     "status": "completed"
    },
    "tags": []
   },
   "outputs": [
    {
     "data": {
      "text/html": [
       "<div>\n",
       "<style scoped>\n",
       "    .dataframe tbody tr th:only-of-type {\n",
       "        vertical-align: middle;\n",
       "    }\n",
       "\n",
       "    .dataframe tbody tr th {\n",
       "        vertical-align: top;\n",
       "    }\n",
       "\n",
       "    .dataframe thead th {\n",
       "        text-align: right;\n",
       "    }\n",
       "</style>\n",
       "<table border=\"1\" class=\"dataframe\">\n",
       "  <thead>\n",
       "    <tr style=\"text-align: right;\">\n",
       "      <th></th>\n",
       "      <th>Weapon Name</th>\n",
       "      <th>Weapon Type</th>\n",
       "      <th>Bullet Type</th>\n",
       "      <th>Damage</th>\n",
       "      <th>Magazine Capacity</th>\n",
       "      <th>Range</th>\n",
       "      <th>Bullet Speed</th>\n",
       "      <th>Rate of Fire</th>\n",
       "      <th>Shots to Kill (Chest)</th>\n",
       "      <th>Shots to Kill (Head)</th>\n",
       "      <th>Damage Per Second</th>\n",
       "      <th>Fire Mode</th>\n",
       "      <th>BDMG_0</th>\n",
       "      <th>BDMG_1</th>\n",
       "      <th>BDMG_2</th>\n",
       "      <th>BDMG_3</th>\n",
       "      <th>HDMG_0</th>\n",
       "      <th>HDMG_1</th>\n",
       "      <th>HDMG_2</th>\n",
       "      <th>HDMG_3</th>\n",
       "    </tr>\n",
       "  </thead>\n",
       "  <tbody>\n",
       "    <tr>\n",
       "      <th>0</th>\n",
       "      <td>Groza</td>\n",
       "      <td>Assault Rifle</td>\n",
       "      <td>7.62</td>\n",
       "      <td>49</td>\n",
       "      <td>30</td>\n",
       "      <td>400.0</td>\n",
       "      <td>715.0</td>\n",
       "      <td>0.080</td>\n",
       "      <td>4</td>\n",
       "      <td>2</td>\n",
       "      <td>612.0</td>\n",
       "      <td>Single, Automatic, Burst</td>\n",
       "      <td>47.0</td>\n",
       "      <td>34.3</td>\n",
       "      <td>29.4</td>\n",
       "      <td>22.0</td>\n",
       "      <td>115.1</td>\n",
       "      <td>80.6</td>\n",
       "      <td>69.0</td>\n",
       "      <td>51.8</td>\n",
       "    </tr>\n",
       "    <tr>\n",
       "      <th>1</th>\n",
       "      <td>AKM</td>\n",
       "      <td>Assault Rifle</td>\n",
       "      <td>7.62</td>\n",
       "      <td>49</td>\n",
       "      <td>30</td>\n",
       "      <td>400.0</td>\n",
       "      <td>710.0</td>\n",
       "      <td>0.010</td>\n",
       "      <td>4</td>\n",
       "      <td>2</td>\n",
       "      <td>490.0</td>\n",
       "      <td>Single, Automatic</td>\n",
       "      <td>47.0</td>\n",
       "      <td>34.3</td>\n",
       "      <td>29.4</td>\n",
       "      <td>22.0</td>\n",
       "      <td>115.1</td>\n",
       "      <td>80.6</td>\n",
       "      <td>69.0</td>\n",
       "      <td>51.8</td>\n",
       "    </tr>\n",
       "    <tr>\n",
       "      <th>2</th>\n",
       "      <td>M762</td>\n",
       "      <td>Assault Rifle</td>\n",
       "      <td>7.62</td>\n",
       "      <td>47</td>\n",
       "      <td>30</td>\n",
       "      <td>400.0</td>\n",
       "      <td>715.0</td>\n",
       "      <td>0.086</td>\n",
       "      <td>4</td>\n",
       "      <td>2</td>\n",
       "      <td>547.0</td>\n",
       "      <td>Single, Automatic, Burst</td>\n",
       "      <td>46.0</td>\n",
       "      <td>32.9</td>\n",
       "      <td>28.2</td>\n",
       "      <td>21.1</td>\n",
       "      <td>110.4</td>\n",
       "      <td>77.3</td>\n",
       "      <td>66.2</td>\n",
       "      <td>49.7</td>\n",
       "    </tr>\n",
       "    <tr>\n",
       "      <th>3</th>\n",
       "      <td>MK47 Mutant</td>\n",
       "      <td>Assault Rifle</td>\n",
       "      <td>7.62</td>\n",
       "      <td>49</td>\n",
       "      <td>30</td>\n",
       "      <td>500.0</td>\n",
       "      <td>715.0</td>\n",
       "      <td>0.010</td>\n",
       "      <td>4</td>\n",
       "      <td>2</td>\n",
       "      <td>490.0</td>\n",
       "      <td>Single, Burst</td>\n",
       "      <td>49.0</td>\n",
       "      <td>34.3</td>\n",
       "      <td>29.4</td>\n",
       "      <td>22.0</td>\n",
       "      <td>115.1</td>\n",
       "      <td>80.6</td>\n",
       "      <td>69.0</td>\n",
       "      <td>51.8</td>\n",
       "    </tr>\n",
       "    <tr>\n",
       "      <th>4</th>\n",
       "      <td>AUG A3</td>\n",
       "      <td>Assault Rifle</td>\n",
       "      <td>5.56</td>\n",
       "      <td>43</td>\n",
       "      <td>30</td>\n",
       "      <td>600.0</td>\n",
       "      <td>880.0</td>\n",
       "      <td>0.086</td>\n",
       "      <td>4</td>\n",
       "      <td>2</td>\n",
       "      <td>502.0</td>\n",
       "      <td>Single, Automatic</td>\n",
       "      <td>41.0</td>\n",
       "      <td>30.1</td>\n",
       "      <td>25.8</td>\n",
       "      <td>19.3</td>\n",
       "      <td>101.0</td>\n",
       "      <td>70.7</td>\n",
       "      <td>60.6</td>\n",
       "      <td>45.4</td>\n",
       "    </tr>\n",
       "  </tbody>\n",
       "</table>\n",
       "</div>"
      ],
      "text/plain": [
       "   Weapon Name    Weapon Type  Bullet Type  Damage  Magazine Capacity  Range  \\\n",
       "0        Groza  Assault Rifle         7.62      49                 30  400.0   \n",
       "1          AKM  Assault Rifle         7.62      49                 30  400.0   \n",
       "2         M762  Assault Rifle         7.62      47                 30  400.0   \n",
       "3  MK47 Mutant  Assault Rifle         7.62      49                 30  500.0   \n",
       "4       AUG A3  Assault Rifle         5.56      43                 30  600.0   \n",
       "\n",
       "   Bullet Speed  Rate of Fire  Shots to Kill (Chest)  Shots to Kill (Head)  \\\n",
       "0         715.0         0.080                      4                     2   \n",
       "1         710.0         0.010                      4                     2   \n",
       "2         715.0         0.086                      4                     2   \n",
       "3         715.0         0.010                      4                     2   \n",
       "4         880.0         0.086                      4                     2   \n",
       "\n",
       "   Damage Per Second                 Fire Mode  BDMG_0  BDMG_1  BDMG_2  \\\n",
       "0              612.0  Single, Automatic, Burst    47.0    34.3    29.4   \n",
       "1              490.0         Single, Automatic    47.0    34.3    29.4   \n",
       "2              547.0  Single, Automatic, Burst    46.0    32.9    28.2   \n",
       "3              490.0             Single, Burst    49.0    34.3    29.4   \n",
       "4              502.0         Single, Automatic    41.0    30.1    25.8   \n",
       "\n",
       "   BDMG_3  HDMG_0  HDMG_1  HDMG_2  HDMG_3  \n",
       "0    22.0   115.1    80.6    69.0    51.8  \n",
       "1    22.0   115.1    80.6    69.0    51.8  \n",
       "2    21.1   110.4    77.3    66.2    49.7  \n",
       "3    22.0   115.1    80.6    69.0    51.8  \n",
       "4    19.3   101.0    70.7    60.6    45.4  "
      ]
     },
     "execution_count": 2,
     "metadata": {},
     "output_type": "execute_result"
    }
   ],
   "source": [
    "df=pd.read_csv(\"/kaggle/input/pubg-weapon-stats/pubg-weapon-stats.csv\")\n",
    "df.head()"
   ]
  },
  {
   "cell_type": "code",
   "execution_count": 3,
   "id": "540a2548",
   "metadata": {
    "execution": {
     "iopub.execute_input": "2024-11-23T18:22:19.707616Z",
     "iopub.status.busy": "2024-11-23T18:22:19.706942Z",
     "iopub.status.idle": "2024-11-23T18:22:19.713281Z",
     "shell.execute_reply": "2024-11-23T18:22:19.712352Z"
    },
    "papermill": {
     "duration": 0.014207,
     "end_time": "2024-11-23T18:22:19.715610",
     "exception": false,
     "start_time": "2024-11-23T18:22:19.701403",
     "status": "completed"
    },
    "tags": []
   },
   "outputs": [
    {
     "data": {
      "text/plain": [
       "(44, 20)"
      ]
     },
     "execution_count": 3,
     "metadata": {},
     "output_type": "execute_result"
    }
   ],
   "source": [
    "df.shape"
   ]
  },
  {
   "cell_type": "code",
   "execution_count": 4,
   "id": "c6e8e5fd",
   "metadata": {
    "execution": {
     "iopub.execute_input": "2024-11-23T18:22:19.726954Z",
     "iopub.status.busy": "2024-11-23T18:22:19.726062Z",
     "iopub.status.idle": "2024-11-23T18:22:19.737018Z",
     "shell.execute_reply": "2024-11-23T18:22:19.735869Z"
    },
    "papermill": {
     "duration": 0.018788,
     "end_time": "2024-11-23T18:22:19.739147",
     "exception": false,
     "start_time": "2024-11-23T18:22:19.720359",
     "status": "completed"
    },
    "tags": []
   },
   "outputs": [
    {
     "data": {
      "text/plain": [
       "Weapon Name              False\n",
       "Weapon Type              False\n",
       "Bullet Type               True\n",
       "Damage                   False\n",
       "Magazine Capacity        False\n",
       "Range                     True\n",
       "Bullet Speed              True\n",
       "Rate of Fire             False\n",
       "Shots to Kill (Chest)    False\n",
       "Shots to Kill (Head)     False\n",
       "Damage Per Second        False\n",
       "Fire Mode                False\n",
       "BDMG_0                    True\n",
       "BDMG_1                    True\n",
       "BDMG_2                    True\n",
       "BDMG_3                    True\n",
       "HDMG_0                    True\n",
       "HDMG_1                    True\n",
       "HDMG_2                    True\n",
       "HDMG_3                    True\n",
       "dtype: bool"
      ]
     },
     "execution_count": 4,
     "metadata": {},
     "output_type": "execute_result"
    }
   ],
   "source": [
    "df.isnull().any()"
   ]
  },
  {
   "cell_type": "code",
   "execution_count": 5,
   "id": "3cbb8a42",
   "metadata": {
    "execution": {
     "iopub.execute_input": "2024-11-23T18:22:19.749758Z",
     "iopub.status.busy": "2024-11-23T18:22:19.749418Z",
     "iopub.status.idle": "2024-11-23T18:22:19.761336Z",
     "shell.execute_reply": "2024-11-23T18:22:19.760182Z"
    },
    "papermill": {
     "duration": 0.01968,
     "end_time": "2024-11-23T18:22:19.763357",
     "exception": false,
     "start_time": "2024-11-23T18:22:19.743677",
     "status": "completed"
    },
    "tags": []
   },
   "outputs": [],
   "source": [
    "df.dropna(axis=0,inplace=True)"
   ]
  },
  {
   "cell_type": "code",
   "execution_count": 6,
   "id": "8c2cfcc5",
   "metadata": {
    "execution": {
     "iopub.execute_input": "2024-11-23T18:22:19.774085Z",
     "iopub.status.busy": "2024-11-23T18:22:19.773703Z",
     "iopub.status.idle": "2024-11-23T18:22:19.780332Z",
     "shell.execute_reply": "2024-11-23T18:22:19.779313Z"
    },
    "papermill": {
     "duration": 0.014437,
     "end_time": "2024-11-23T18:22:19.782460",
     "exception": false,
     "start_time": "2024-11-23T18:22:19.768023",
     "status": "completed"
    },
    "tags": []
   },
   "outputs": [
    {
     "data": {
      "text/plain": [
       "(35, 20)"
      ]
     },
     "execution_count": 6,
     "metadata": {},
     "output_type": "execute_result"
    }
   ],
   "source": [
    "df.shape"
   ]
  },
  {
   "cell_type": "code",
   "execution_count": 7,
   "id": "12697641",
   "metadata": {
    "execution": {
     "iopub.execute_input": "2024-11-23T18:22:19.795016Z",
     "iopub.status.busy": "2024-11-23T18:22:19.794646Z",
     "iopub.status.idle": "2024-11-23T18:22:21.705084Z",
     "shell.execute_reply": "2024-11-23T18:22:21.703890Z"
    },
    "papermill": {
     "duration": 1.919721,
     "end_time": "2024-11-23T18:22:21.707320",
     "exception": false,
     "start_time": "2024-11-23T18:22:19.787599",
     "status": "completed"
    },
    "tags": []
   },
   "outputs": [
    {
     "name": "stdout",
     "output_type": "stream",
     "text": [
      "0    Assault Rifle\n",
      "1    Assault Rifle\n",
      "2    Assault Rifle\n",
      "3    Assault Rifle\n",
      "4    Assault Rifle\n",
      "Name: Weapon Type, dtype: object\n"
     ]
    },
    {
     "data": {
      "image/png": "[encoded data removed]",
      "text/plain": [
       "<Figure size 1500x1000 with 1 Axes>"
      ]
     },
     "metadata": {},
     "output_type": "display_data"
    }
   ],
   "source": [
    "import matplotlib.pyplot as plt\n",
    "import seaborn as sns\n",
    "\n",
    "# Check data\n",
    "print(df['Weapon Type'].head())\n",
    "\n",
    "# Handle NaN values if necessary\n",
    "df['Weapon Type'] = df['Weapon Type'].fillna('Unknown')\n",
    "\n",
    "# Plot countplot\n",
    "plt.figure(figsize=(15, 10))\n",
    "sns.countplot(data=df, x='Weapon Type')\n",
    "plt.show()\n"
   ]
  },
  {
   "cell_type": "code",
   "execution_count": 8,
   "id": "0c14792d",
   "metadata": {
    "execution": {
     "iopub.execute_input": "2024-11-23T18:22:21.719043Z",
     "iopub.status.busy": "2024-11-23T18:22:21.718560Z",
     "iopub.status.idle": "2024-11-23T18:22:21.931957Z",
     "shell.execute_reply": "2024-11-23T18:22:21.930976Z"
    },
    "papermill": {
     "duration": 0.221592,
     "end_time": "2024-11-23T18:22:21.933958",
     "exception": false,
     "start_time": "2024-11-23T18:22:21.712366",
     "status": "completed"
    },
    "tags": []
   },
   "outputs": [
    {
     "data": {
      "image/png": "[encoded data removed]",
      "text/plain": [
       "<Figure size 1200x700 with 1 Axes>"
      ]
     },
     "metadata": {},
     "output_type": "display_data"
    }
   ],
   "source": [
    "## bullet type\n",
    "plt.figure(figsize=(12,7))\n",
    "sns.countplot(data=df, x='Bullet Type')\n",
    "plt.show()"
   ]
  },
  {
   "cell_type": "code",
   "execution_count": 9,
   "id": "f6f53b05",
   "metadata": {
    "execution": {
     "iopub.execute_input": "2024-11-23T18:22:21.946892Z",
     "iopub.status.busy": "2024-11-23T18:22:21.946537Z",
     "iopub.status.idle": "2024-11-23T18:22:22.239407Z",
     "shell.execute_reply": "2024-11-23T18:22:22.238270Z"
    },
    "papermill": {
     "duration": 0.30158,
     "end_time": "2024-11-23T18:22:22.241334",
     "exception": false,
     "start_time": "2024-11-23T18:22:21.939754",
     "status": "completed"
    },
    "tags": []
   },
   "outputs": [
    {
     "data": {
      "text/plain": [
       "(array([0, 1, 2, 3, 4, 5, 6]),\n",
       " [Text(0, 0, 'Assault Rifle'),\n",
       "  Text(1, 0, 'Light Machine Gun'),\n",
       "  Text(2, 0, 'Submachine Gun'),\n",
       "  Text(3, 0, 'Shotgun'),\n",
       "  Text(4, 0, 'Designed Marksman Rifle'),\n",
       "  Text(5, 0, 'Sniper Rifle'),\n",
       "  Text(6, 0, 'Pistol')])"
      ]
     },
     "execution_count": 9,
     "metadata": {},
     "output_type": "execute_result"
    },
    {
     "data": {
      "image/png": "[encoded data removed]",
      "text/plain": [
       "<Figure size 1500x1000 with 1 Axes>"
      ]
     },
     "metadata": {},
     "output_type": "display_data"
    }
   ],
   "source": [
    "plt.figure(figsize=(15,10))\n",
    "sns.countplot(x=df[\"Weapon Type\"],palette=[\"green\",\"black\"],)\n",
    "plt.ylabel(\"Number of guns\")\n",
    "plt.xticks(rotation=30)"
   ]
  },
  {
   "cell_type": "code",
   "execution_count": 10,
   "id": "3b0e6213",
   "metadata": {
    "execution": {
     "iopub.execute_input": "2024-11-23T18:22:22.256017Z",
     "iopub.status.busy": "2024-11-23T18:22:22.255639Z",
     "iopub.status.idle": "2024-11-23T18:22:22.267083Z",
     "shell.execute_reply": "2024-11-23T18:22:22.266037Z"
    },
    "papermill": {
     "duration": 0.021211,
     "end_time": "2024-11-23T18:22:22.269225",
     "exception": false,
     "start_time": "2024-11-23T18:22:22.248014",
     "status": "completed"
    },
    "tags": []
   },
   "outputs": [
    {
     "data": {
      "text/html": [
       "<div>\n",
       "<style scoped>\n",
       "    .dataframe tbody tr th:only-of-type {\n",
       "        vertical-align: middle;\n",
       "    }\n",
       "\n",
       "    .dataframe tbody tr th {\n",
       "        vertical-align: top;\n",
       "    }\n",
       "\n",
       "    .dataframe thead th {\n",
       "        text-align: right;\n",
       "    }\n",
       "</style>\n",
       "<table border=\"1\" class=\"dataframe\">\n",
       "  <thead>\n",
       "    <tr style=\"text-align: right;\">\n",
       "      <th></th>\n",
       "      <th>index</th>\n",
       "      <th>Weapon Name</th>\n",
       "    </tr>\n",
       "  </thead>\n",
       "  <tbody>\n",
       "    <tr>\n",
       "      <th>0</th>\n",
       "      <td>0</td>\n",
       "      <td>Groza</td>\n",
       "    </tr>\n",
       "    <tr>\n",
       "      <th>1</th>\n",
       "      <td>1</td>\n",
       "      <td>AKM</td>\n",
       "    </tr>\n",
       "    <tr>\n",
       "      <th>2</th>\n",
       "      <td>2</td>\n",
       "      <td>M762</td>\n",
       "    </tr>\n",
       "    <tr>\n",
       "      <th>3</th>\n",
       "      <td>3</td>\n",
       "      <td>MK47 Mutant</td>\n",
       "    </tr>\n",
       "    <tr>\n",
       "      <th>4</th>\n",
       "      <td>4</td>\n",
       "      <td>AUG A3</td>\n",
       "    </tr>\n",
       "    <tr>\n",
       "      <th>5</th>\n",
       "      <td>5</td>\n",
       "      <td>SCAR-L</td>\n",
       "    </tr>\n",
       "    <tr>\n",
       "      <th>6</th>\n",
       "      <td>6</td>\n",
       "      <td>M416</td>\n",
       "    </tr>\n",
       "    <tr>\n",
       "      <th>7</th>\n",
       "      <td>7</td>\n",
       "      <td>M16A4</td>\n",
       "    </tr>\n",
       "    <tr>\n",
       "      <th>8</th>\n",
       "      <td>8</td>\n",
       "      <td>G36C</td>\n",
       "    </tr>\n",
       "    <tr>\n",
       "      <th>9</th>\n",
       "      <td>9</td>\n",
       "      <td>OBZ</td>\n",
       "    </tr>\n",
       "  </tbody>\n",
       "</table>\n",
       "</div>"
      ],
      "text/plain": [
       "   index  Weapon Name\n",
       "0      0        Groza\n",
       "1      1          AKM\n",
       "2      2         M762\n",
       "3      3  MK47 Mutant\n",
       "4      4       AUG A3\n",
       "5      5       SCAR-L\n",
       "6      6         M416\n",
       "7      7        M16A4\n",
       "8      8         G36C\n",
       "9      9          OBZ"
      ]
     },
     "execution_count": 10,
     "metadata": {},
     "output_type": "execute_result"
    }
   ],
   "source": [
    "#Weapons under AR\n",
    "df.loc[df[\"Weapon Type\"]==\"Assault Rifle\",\"Weapon Name\"].reset_index()"
   ]
  },
  {
   "cell_type": "markdown",
   "id": "e9d5dc8a",
   "metadata": {
    "papermill": {
     "duration": 0.00598,
     "end_time": "2024-11-23T18:22:22.281515",
     "exception": false,
     "start_time": "2024-11-23T18:22:22.275535",
     "status": "completed"
    },
    "tags": []
   },
   "source": [
    "**Sniper Weapons**"
   ]
  },
  {
   "cell_type": "code",
   "execution_count": 11,
   "id": "3d8e0205",
   "metadata": {
    "execution": {
     "iopub.execute_input": "2024-11-23T18:22:22.295867Z",
     "iopub.status.busy": "2024-11-23T18:22:22.295487Z",
     "iopub.status.idle": "2024-11-23T18:22:22.307098Z",
     "shell.execute_reply": "2024-11-23T18:22:22.305931Z"
    },
    "papermill": {
     "duration": 0.021282,
     "end_time": "2024-11-23T18:22:22.309053",
     "exception": false,
     "start_time": "2024-11-23T18:22:22.287771",
     "status": "completed"
    },
    "tags": []
   },
   "outputs": [
    {
     "data": {
      "text/html": [
       "<div>\n",
       "<style scoped>\n",
       "    .dataframe tbody tr th:only-of-type {\n",
       "        vertical-align: middle;\n",
       "    }\n",
       "\n",
       "    .dataframe tbody tr th {\n",
       "        vertical-align: top;\n",
       "    }\n",
       "\n",
       "    .dataframe thead th {\n",
       "        text-align: right;\n",
       "    }\n",
       "</style>\n",
       "<table border=\"1\" class=\"dataframe\">\n",
       "  <thead>\n",
       "    <tr style=\"text-align: right;\">\n",
       "      <th></th>\n",
       "      <th>index</th>\n",
       "      <th>Weapon Name</th>\n",
       "    </tr>\n",
       "  </thead>\n",
       "  <tbody>\n",
       "    <tr>\n",
       "      <th>0</th>\n",
       "      <td>27</td>\n",
       "      <td>AWM</td>\n",
       "    </tr>\n",
       "    <tr>\n",
       "      <th>1</th>\n",
       "      <td>28</td>\n",
       "      <td>M24</td>\n",
       "    </tr>\n",
       "    <tr>\n",
       "      <th>2</th>\n",
       "      <td>29</td>\n",
       "      <td>Kar98</td>\n",
       "    </tr>\n",
       "    <tr>\n",
       "      <th>3</th>\n",
       "      <td>30</td>\n",
       "      <td>Win94</td>\n",
       "    </tr>\n",
       "  </tbody>\n",
       "</table>\n",
       "</div>"
      ],
      "text/plain": [
       "   index Weapon Name\n",
       "0     27         AWM\n",
       "1     28         M24\n",
       "2     29       Kar98\n",
       "3     30       Win94"
      ]
     },
     "execution_count": 11,
     "metadata": {},
     "output_type": "execute_result"
    }
   ],
   "source": [
    "#Sniper weapons\n",
    "df.loc[df[\"Weapon Type\"]==\"Sniper Rifle\",\"Weapon Name\"].reset_index()"
   ]
  },
  {
   "cell_type": "markdown",
   "id": "71c7d1b9",
   "metadata": {
    "papermill": {
     "duration": 0.005963,
     "end_time": "2024-11-23T18:22:22.321311",
     "exception": false,
     "start_time": "2024-11-23T18:22:22.315348",
     "status": "completed"
    },
    "tags": []
   },
   "source": [
    "****Light Machine Gun****"
   ]
  },
  {
   "cell_type": "code",
   "execution_count": 12,
   "id": "f97d03cc",
   "metadata": {
    "execution": {
     "iopub.execute_input": "2024-11-23T18:22:22.336230Z",
     "iopub.status.busy": "2024-11-23T18:22:22.335829Z",
     "iopub.status.idle": "2024-11-23T18:22:22.346513Z",
     "shell.execute_reply": "2024-11-23T18:22:22.345439Z"
    },
    "papermill": {
     "duration": 0.020615,
     "end_time": "2024-11-23T18:22:22.348593",
     "exception": false,
     "start_time": "2024-11-23T18:22:22.327978",
     "status": "completed"
    },
    "tags": []
   },
   "outputs": [
    {
     "data": {
      "text/html": [
       "<div>\n",
       "<style scoped>\n",
       "    .dataframe tbody tr th:only-of-type {\n",
       "        vertical-align: middle;\n",
       "    }\n",
       "\n",
       "    .dataframe tbody tr th {\n",
       "        vertical-align: top;\n",
       "    }\n",
       "\n",
       "    .dataframe thead th {\n",
       "        text-align: right;\n",
       "    }\n",
       "</style>\n",
       "<table border=\"1\" class=\"dataframe\">\n",
       "  <thead>\n",
       "    <tr style=\"text-align: right;\">\n",
       "      <th></th>\n",
       "      <th>index</th>\n",
       "      <th>Weapon Name</th>\n",
       "    </tr>\n",
       "  </thead>\n",
       "  <tbody>\n",
       "    <tr>\n",
       "      <th>0</th>\n",
       "      <td>10</td>\n",
       "      <td>M249</td>\n",
       "    </tr>\n",
       "    <tr>\n",
       "      <th>1</th>\n",
       "      <td>11</td>\n",
       "      <td>DP-28</td>\n",
       "    </tr>\n",
       "  </tbody>\n",
       "</table>\n",
       "</div>"
      ],
      "text/plain": [
       "   index Weapon Name\n",
       "0     10        M249\n",
       "1     11       DP-28"
      ]
     },
     "execution_count": 12,
     "metadata": {},
     "output_type": "execute_result"
    }
   ],
   "source": [
    "#Light Machine Guns\n",
    "df.loc[df[\"Weapon Type\"]==\"Light Machine Gun\",\"Weapon Name\"].reset_index()"
   ]
  },
  {
   "cell_type": "markdown",
   "id": "3bdf9287",
   "metadata": {
    "papermill": {
     "duration": 0.006248,
     "end_time": "2024-11-23T18:22:22.361481",
     "exception": false,
     "start_time": "2024-11-23T18:22:22.355233",
     "status": "completed"
    },
    "tags": []
   },
   "source": [
    "**ShotGun Weapon**"
   ]
  },
  {
   "cell_type": "code",
   "execution_count": 13,
   "id": "1b1793eb",
   "metadata": {
    "execution": {
     "iopub.execute_input": "2024-11-23T18:22:22.376280Z",
     "iopub.status.busy": "2024-11-23T18:22:22.375861Z",
     "iopub.status.idle": "2024-11-23T18:22:22.386236Z",
     "shell.execute_reply": "2024-11-23T18:22:22.385196Z"
    },
    "papermill": {
     "duration": 0.0205,
     "end_time": "2024-11-23T18:22:22.388352",
     "exception": false,
     "start_time": "2024-11-23T18:22:22.367852",
     "status": "completed"
    },
    "tags": []
   },
   "outputs": [
    {
     "data": {
      "text/html": [
       "<div>\n",
       "<style scoped>\n",
       "    .dataframe tbody tr th:only-of-type {\n",
       "        vertical-align: middle;\n",
       "    }\n",
       "\n",
       "    .dataframe tbody tr th {\n",
       "        vertical-align: top;\n",
       "    }\n",
       "\n",
       "    .dataframe thead th {\n",
       "        text-align: right;\n",
       "    }\n",
       "</style>\n",
       "<table border=\"1\" class=\"dataframe\">\n",
       "  <thead>\n",
       "    <tr style=\"text-align: right;\">\n",
       "      <th></th>\n",
       "      <th>index</th>\n",
       "      <th>Weapon Name</th>\n",
       "    </tr>\n",
       "  </thead>\n",
       "  <tbody>\n",
       "    <tr>\n",
       "      <th>0</th>\n",
       "      <td>18</td>\n",
       "      <td>S686</td>\n",
       "    </tr>\n",
       "    <tr>\n",
       "      <th>1</th>\n",
       "      <td>19</td>\n",
       "      <td>S1897</td>\n",
       "    </tr>\n",
       "    <tr>\n",
       "      <th>2</th>\n",
       "      <td>20</td>\n",
       "      <td>S12K</td>\n",
       "    </tr>\n",
       "  </tbody>\n",
       "</table>\n",
       "</div>"
      ],
      "text/plain": [
       "   index Weapon Name\n",
       "0     18        S686\n",
       "1     19       S1897\n",
       "2     20        S12K"
      ]
     },
     "execution_count": 13,
     "metadata": {},
     "output_type": "execute_result"
    }
   ],
   "source": [
    "df.loc[df[\"Weapon Type\"] == \"Shotgun\",\"Weapon Name\"].reset_index()"
   ]
  },
  {
   "cell_type": "markdown",
   "id": "5d160769",
   "metadata": {
    "papermill": {
     "duration": 0.006525,
     "end_time": "2024-11-23T18:22:22.401711",
     "exception": false,
     "start_time": "2024-11-23T18:22:22.395186",
     "status": "completed"
    },
    "tags": []
   },
   "source": [
    "**Ammo Type**"
   ]
  },
  {
   "cell_type": "code",
   "execution_count": 14,
   "id": "87bb27de",
   "metadata": {
    "execution": {
     "iopub.execute_input": "2024-11-23T18:22:22.416726Z",
     "iopub.status.busy": "2024-11-23T18:22:22.416356Z",
     "iopub.status.idle": "2024-11-23T18:22:22.433204Z",
     "shell.execute_reply": "2024-11-23T18:22:22.432201Z"
    },
    "papermill": {
     "duration": 0.026983,
     "end_time": "2024-11-23T18:22:22.435410",
     "exception": false,
     "start_time": "2024-11-23T18:22:22.408427",
     "status": "completed"
    },
    "tags": []
   },
   "outputs": [
    {
     "data": {
      "text/html": [
       "<div>\n",
       "<style scoped>\n",
       "    .dataframe tbody tr th:only-of-type {\n",
       "        vertical-align: middle;\n",
       "    }\n",
       "\n",
       "    .dataframe tbody tr th {\n",
       "        vertical-align: top;\n",
       "    }\n",
       "\n",
       "    .dataframe thead th {\n",
       "        text-align: right;\n",
       "    }\n",
       "</style>\n",
       "<table border=\"1\" class=\"dataframe\">\n",
       "  <thead>\n",
       "    <tr style=\"text-align: right;\">\n",
       "      <th></th>\n",
       "      <th>Bullet Type</th>\n",
       "      <th>count</th>\n",
       "    </tr>\n",
       "  </thead>\n",
       "  <tbody>\n",
       "    <tr>\n",
       "      <th>0</th>\n",
       "      <td>7.62</td>\n",
       "      <td>11</td>\n",
       "    </tr>\n",
       "    <tr>\n",
       "      <th>1</th>\n",
       "      <td>5.56</td>\n",
       "      <td>9</td>\n",
       "    </tr>\n",
       "    <tr>\n",
       "      <th>2</th>\n",
       "      <td>9.00</td>\n",
       "      <td>7</td>\n",
       "    </tr>\n",
       "    <tr>\n",
       "      <th>3</th>\n",
       "      <td>0.45</td>\n",
       "      <td>4</td>\n",
       "    </tr>\n",
       "    <tr>\n",
       "      <th>4</th>\n",
       "      <td>12.00</td>\n",
       "      <td>3</td>\n",
       "    </tr>\n",
       "    <tr>\n",
       "      <th>5</th>\n",
       "      <td>0.30</td>\n",
       "      <td>1</td>\n",
       "    </tr>\n",
       "  </tbody>\n",
       "</table>\n",
       "</div>"
      ],
      "text/plain": [
       "   Bullet Type  count\n",
       "0         7.62     11\n",
       "1         5.56      9\n",
       "2         9.00      7\n",
       "3         0.45      4\n",
       "4        12.00      3\n",
       "5         0.30      1"
      ]
     },
     "execution_count": 14,
     "metadata": {},
     "output_type": "execute_result"
    }
   ],
   "source": [
    "df[\"Bullet Type\"].value_counts().reset_index()"
   ]
  },
  {
   "cell_type": "code",
   "execution_count": null,
   "id": "8224382e",
   "metadata": {
    "papermill": {
     "duration": 0.006716,
     "end_time": "2024-11-23T18:22:22.449047",
     "exception": false,
     "start_time": "2024-11-23T18:22:22.442331",
     "status": "completed"
    },
    "tags": []
   },
   "outputs": [],
   "source": []
  }
 ],
 "metadata": {
  "kaggle": {
   "accelerator": "none",
   "dataSources": [
    {
     "datasetId": 803991,
     "sourceId": 1378283,
     "sourceType": "datasetVersion"
    }
   ],
   "dockerImageVersionId": 30786,
   "isGpuEnabled": false,
   "isInternetEnabled": true,
   "language": "python",
   "sourceType": "notebook"
  },
  "kernelspec": {
   "display_name": "Python 3",
   "language": "python",
   "name": "python3"
  },
  "language_info": {
   "codemirror_mode": {
    "name": "ipython",
    "version": 3
   },
   "file_extension": ".py",
   "mimetype": "text/x-python",
   "name": "python",
   "nbconvert_exporter": "python",
   "pygments_lexer": "ipython3",
   "version": "3.10.14"
  },
  "papermill": {
   "default_parameters": {},
   "duration": 6.981972,
   "end_time": "2024-11-23T18:22:23.077509",
   "environment_variables": {},
   "exception": null,
   "input_path": "__notebook__.ipynb",
   "output_path": "__notebook__.ipynb",
   "parameters": {},
   "start_time": "2024-11-23T18:22:16.095537",
   "version": "2.6.0"
  }
 },
 "nbformat": 4,
 "nbformat_minor": 5
}
